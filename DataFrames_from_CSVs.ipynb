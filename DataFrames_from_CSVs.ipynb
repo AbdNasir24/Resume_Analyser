{
  "cells": [
    {
      "cell_type": "markdown",
      "metadata": {
        "id": "view-in-github",
        "colab_type": "text"
      },
      "source": [
        "<a href=\"https://colab.research.google.com/github/AbdNasir24/Resume_Analyser/blob/main/DataFrames_from_CSVs.ipynb\" target=\"_parent\"><img src=\"https://colab.research.google.com/assets/colab-badge.svg\" alt=\"Open In Colab\"/></a>"
      ]
    },
    {
      "cell_type": "code",
      "source": [
        "import pandas as pd\n",
        "import numpy as np\n",
        "\n",
        "\n",
        "filenames = [\n",
        "    \"01_people.csv\",\n",
        "    \"02_abilities.csv\",\n",
        "    \"03_education.csv\",\n",
        "    \"04_experience.csv\",\n",
        "    \"05_person_skills.csv\",\n",
        "    \"06_skills.csv\"\n",
        "]\n",
        "\n",
        "resume_data = {}\n",
        "\n",
        "\n",
        "for filename in filenames:\n",
        "    try:\n",
        "\n",
        "        df_name = filename.split('_', 1)[1].replace('.csv', '') + \"_df\"\n",
        "        if filename.startswith(\"01_\"):\n",
        "             df_name = \"people_df\"\n",
        "        elif filename.startswith(\"02_\"):\n",
        "             df_name = \"abilities_df\"\n",
        "        elif filename.startswith(\"03_\"):\n",
        "             df_name = \"education_df\"\n",
        "        elif filename.startswith(\"04_\"):\n",
        "             df_name = \"experience_df\"\n",
        "        elif filename.startswith(\"05_\"):\n",
        "             df_name = \"person_skills_df\"\n",
        "        elif filename.startswith(\"06_\"):\n",
        "             df_name = \"skills_df\"\n",
        "\n",
        "        resume_data[df_name] = pd.read_csv(filename)\n",
        "        print(f\"Successfully loaded {filename} into DataFrame: {df_name}\")\n",
        "    except FileNotFoundError:\n",
        "        print(f\"Error: The file {filename} was not found. Please ensure it's in the same directory as the script or provide the full path.\")\n",
        "    except Exception as e:\n",
        "        print(f\"An error occurred while reading {filename}: {e}\")\n",
        "\n",
        "print(\"\\n--- Displaying the head of each DataFrame ---\")\n",
        "for name, df in resume_data.items():\n",
        "    print(f\"\\nHead of {name}:\")\n",
        "    print(df.head())"
      ],
      "outputs": [
        {
          "output_type": "stream",
          "name": "stdout",
          "text": [
            "Successfully loaded 01_people.csv into DataFrame: people_df\n",
            "Successfully loaded 02_abilities.csv into DataFrame: abilities_df\n",
            "Successfully loaded 03_education.csv into DataFrame: education_df\n",
            "Successfully loaded 04_experience.csv into DataFrame: experience_df\n",
            "Successfully loaded 05_person_skills.csv into DataFrame: person_skills_df\n",
            "Successfully loaded 06_skills.csv into DataFrame: skills_df\n",
            "\n",
            "--- Displaying the head of each DataFrame ---\n",
            "\n",
            "Head of people_df:\n",
            "   person_id                                               name email phone  \\\n",
            "0          1                             Database Administrator   NaN   NaN   \n",
            "1          2                             Database Administrator   NaN   NaN   \n",
            "2          3                      Oracle Database Administrator   NaN   NaN   \n",
            "3          4  Amazon Redshift Administrator and ETL Develope...   NaN   NaN   \n",
            "4          5             Scrum Master Scrum Master Scrum Master   NaN   NaN   \n",
            "\n",
            "  linkedin  \n",
            "0      NaN  \n",
            "1      NaN  \n",
            "2      NaN  \n",
            "3      NaN  \n",
            "4      NaN  \n",
            "\n",
            "Head of abilities_df:\n",
            "   person_id                           ability\n",
            "0          1  Installation and Building Server\n",
            "1          1                   Running Backups\n",
            "2          1   Recovering and Restoring Models\n",
            "3          1     Support various MS SQL Server\n",
            "4          1           MS SQL Server 2005/2008\n",
            "\n",
            "Head of education_df:\n",
            "   person_id                       institution  \\\n",
            "0          1              Lead City University   \n",
            "1          2            lagos state university   \n",
            "2          3   JNTU - Kakinada, Andhra Pradesh   \n",
            "3          4         University of Informatics   \n",
            "4          5  Virginia Commomwealth University   \n",
            "\n",
            "                                             program start_date  \\\n",
            "0                                Bachelor of Science    07/2013   \n",
            "1                            bsc in computer science        NaN   \n",
            "2  Master of Computer Applications in Science and...       2013   \n",
            "3                       Bachelor in Computer Science      06/07   \n",
            "4                                                NaN    08/2013   \n",
            "\n",
            "                   location  \n",
            "0                       NaN  \n",
            "1                 Lagos, GU  \n",
            "2  Kakinada, Andhra Pradesh  \n",
            "3                 June 2007  \n",
            "4              Richmond, VA  \n",
            "\n",
            "Head of experience_df:\n",
            "   person_id                          title                       firm  \\\n",
            "0          1         Database Administrator    Family Private Care LLC   \n",
            "1          1         Database Administrator                     Incomm   \n",
            "2          2         Database Administrator  Intercontinental Registry   \n",
            "3          3  Oracle Database Administrator                  Cognizant   \n",
            "4          3  Oracle Database Administrator                  Convergys   \n",
            "\n",
            "  start_date end_date              location  \n",
            "0    04/2017  Present           Roswell, GA  \n",
            "1    01/2014  02/2017        Alpharetta, GA  \n",
            "2    12/2008  08/2011             Lagos, GU  \n",
            "3    06/2016  Present  Hyderabad, Telangana  \n",
            "4    06/2014  06/2016  Hyderabad, Telangana  \n",
            "\n",
            "Head of person_skills_df:\n",
            "   person_id                    skill\n",
            "0          1  Database administration\n",
            "1          1                 Database\n",
            "2          1            Ms sql server\n",
            "3          1       Ms sql server 2005\n",
            "4          1               Sql server\n",
            "\n",
            "Head of skills_df:\n",
            "                                               skill\n",
            "0                                       Mongo DB-3.2\n",
            "1                                          JNDI LDAP\n",
            "2                                  Stored Procedures\n",
            "3                            Perform ad-hoc analysis\n",
            "4  Monitored and resolved flight crew legality is...\n"
          ]
        }
      ],
      "execution_count": 1,
      "metadata": {
        "colab": {
          "base_uri": "https://localhost:8080/"
        },
        "id": "-zkFds37yg2e",
        "outputId": "90739800-fac3-4eb0-f66d-04f89460d9f0"
      }
    },
    {
      "cell_type": "code",
      "source": [
        "df.info()"
      ],
      "metadata": {
        "colab": {
          "base_uri": "https://localhost:8080/"
        },
        "id": "PJaDtP5nd5Fj",
        "outputId": "6d42d783-678d-4ef1-dc75-db92364438c9"
      },
      "execution_count": 2,
      "outputs": [
        {
          "output_type": "stream",
          "name": "stdout",
          "text": [
            "<class 'pandas.core.frame.DataFrame'>\n",
            "RangeIndex: 226760 entries, 0 to 226759\n",
            "Data columns (total 1 columns):\n",
            " #   Column  Non-Null Count   Dtype \n",
            "---  ------  --------------   ----- \n",
            " 0   skill   226758 non-null  object\n",
            "dtypes: object(1)\n",
            "memory usage: 1.7+ MB\n"
          ]
        }
      ]
    },
    {
      "cell_type": "code",
      "source": [
        "df.head()"
      ],
      "metadata": {
        "colab": {
          "base_uri": "https://localhost:8080/",
          "height": 206
        },
        "id": "UOSuqYdRjerP",
        "outputId": "2283a519-a0be-4591-b0ad-7f6e57d9fd9e"
      },
      "execution_count": 3,
      "outputs": [
        {
          "output_type": "execute_result",
          "data": {
            "text/plain": [
              "                                               skill\n",
              "0                                       Mongo DB-3.2\n",
              "1                                          JNDI LDAP\n",
              "2                                  Stored Procedures\n",
              "3                            Perform ad-hoc analysis\n",
              "4  Monitored and resolved flight crew legality is..."
            ],
            "text/html": [
              "\n",
              "  <div id=\"df-0b4acf9b-fe5a-4b49-bad2-f2cdc71c87d5\" class=\"colab-df-container\">\n",
              "    <div>\n",
              "<style scoped>\n",
              "    .dataframe tbody tr th:only-of-type {\n",
              "        vertical-align: middle;\n",
              "    }\n",
              "\n",
              "    .dataframe tbody tr th {\n",
              "        vertical-align: top;\n",
              "    }\n",
              "\n",
              "    .dataframe thead th {\n",
              "        text-align: right;\n",
              "    }\n",
              "</style>\n",
              "<table border=\"1\" class=\"dataframe\">\n",
              "  <thead>\n",
              "    <tr style=\"text-align: right;\">\n",
              "      <th></th>\n",
              "      <th>skill</th>\n",
              "    </tr>\n",
              "  </thead>\n",
              "  <tbody>\n",
              "    <tr>\n",
              "      <th>0</th>\n",
              "      <td>Mongo DB-3.2</td>\n",
              "    </tr>\n",
              "    <tr>\n",
              "      <th>1</th>\n",
              "      <td>JNDI LDAP</td>\n",
              "    </tr>\n",
              "    <tr>\n",
              "      <th>2</th>\n",
              "      <td>Stored Procedures</td>\n",
              "    </tr>\n",
              "    <tr>\n",
              "      <th>3</th>\n",
              "      <td>Perform ad-hoc analysis</td>\n",
              "    </tr>\n",
              "    <tr>\n",
              "      <th>4</th>\n",
              "      <td>Monitored and resolved flight crew legality is...</td>\n",
              "    </tr>\n",
              "  </tbody>\n",
              "</table>\n",
              "</div>\n",
              "    <div class=\"colab-df-buttons\">\n",
              "\n",
              "  <div class=\"colab-df-container\">\n",
              "    <button class=\"colab-df-convert\" onclick=\"convertToInteractive('df-0b4acf9b-fe5a-4b49-bad2-f2cdc71c87d5')\"\n",
              "            title=\"Convert this dataframe to an interactive table.\"\n",
              "            style=\"display:none;\">\n",
              "\n",
              "  <svg xmlns=\"http://www.w3.org/2000/svg\" height=\"24px\" viewBox=\"0 -960 960 960\">\n",
              "    <path d=\"M120-120v-720h720v720H120Zm60-500h600v-160H180v160Zm220 220h160v-160H400v160Zm0 220h160v-160H400v160ZM180-400h160v-160H180v160Zm440 0h160v-160H620v160ZM180-180h160v-160H180v160Zm440 0h160v-160H620v160Z\"/>\n",
              "  </svg>\n",
              "    </button>\n",
              "\n",
              "  <style>\n",
              "    .colab-df-container {\n",
              "      display:flex;\n",
              "      gap: 12px;\n",
              "    }\n",
              "\n",
              "    .colab-df-convert {\n",
              "      background-color: #E8F0FE;\n",
              "      border: none;\n",
              "      border-radius: 50%;\n",
              "      cursor: pointer;\n",
              "      display: none;\n",
              "      fill: #1967D2;\n",
              "      height: 32px;\n",
              "      padding: 0 0 0 0;\n",
              "      width: 32px;\n",
              "    }\n",
              "\n",
              "    .colab-df-convert:hover {\n",
              "      background-color: #E2EBFA;\n",
              "      box-shadow: 0px 1px 2px rgba(60, 64, 67, 0.3), 0px 1px 3px 1px rgba(60, 64, 67, 0.15);\n",
              "      fill: #174EA6;\n",
              "    }\n",
              "\n",
              "    .colab-df-buttons div {\n",
              "      margin-bottom: 4px;\n",
              "    }\n",
              "\n",
              "    [theme=dark] .colab-df-convert {\n",
              "      background-color: #3B4455;\n",
              "      fill: #D2E3FC;\n",
              "    }\n",
              "\n",
              "    [theme=dark] .colab-df-convert:hover {\n",
              "      background-color: #434B5C;\n",
              "      box-shadow: 0px 1px 3px 1px rgba(0, 0, 0, 0.15);\n",
              "      filter: drop-shadow(0px 1px 2px rgba(0, 0, 0, 0.3));\n",
              "      fill: #FFFFFF;\n",
              "    }\n",
              "  </style>\n",
              "\n",
              "    <script>\n",
              "      const buttonEl =\n",
              "        document.querySelector('#df-0b4acf9b-fe5a-4b49-bad2-f2cdc71c87d5 button.colab-df-convert');\n",
              "      buttonEl.style.display =\n",
              "        google.colab.kernel.accessAllowed ? 'block' : 'none';\n",
              "\n",
              "      async function convertToInteractive(key) {\n",
              "        const element = document.querySelector('#df-0b4acf9b-fe5a-4b49-bad2-f2cdc71c87d5');\n",
              "        const dataTable =\n",
              "          await google.colab.kernel.invokeFunction('convertToInteractive',\n",
              "                                                    [key], {});\n",
              "        if (!dataTable) return;\n",
              "\n",
              "        const docLinkHtml = 'Like what you see? Visit the ' +\n",
              "          '<a target=\"_blank\" href=https://colab.research.google.com/notebooks/data_table.ipynb>data table notebook</a>'\n",
              "          + ' to learn more about interactive tables.';\n",
              "        element.innerHTML = '';\n",
              "        dataTable['output_type'] = 'display_data';\n",
              "        await google.colab.output.renderOutput(dataTable, element);\n",
              "        const docLink = document.createElement('div');\n",
              "        docLink.innerHTML = docLinkHtml;\n",
              "        element.appendChild(docLink);\n",
              "      }\n",
              "    </script>\n",
              "  </div>\n",
              "\n",
              "\n",
              "    <div id=\"df-114ce90c-b98f-4940-878c-72f66409837d\">\n",
              "      <button class=\"colab-df-quickchart\" onclick=\"quickchart('df-114ce90c-b98f-4940-878c-72f66409837d')\"\n",
              "                title=\"Suggest charts\"\n",
              "                style=\"display:none;\">\n",
              "\n",
              "<svg xmlns=\"http://www.w3.org/2000/svg\" height=\"24px\"viewBox=\"0 0 24 24\"\n",
              "     width=\"24px\">\n",
              "    <g>\n",
              "        <path d=\"M19 3H5c-1.1 0-2 .9-2 2v14c0 1.1.9 2 2 2h14c1.1 0 2-.9 2-2V5c0-1.1-.9-2-2-2zM9 17H7v-7h2v7zm4 0h-2V7h2v10zm4 0h-2v-4h2v4z\"/>\n",
              "    </g>\n",
              "</svg>\n",
              "      </button>\n",
              "\n",
              "<style>\n",
              "  .colab-df-quickchart {\n",
              "      --bg-color: #E8F0FE;\n",
              "      --fill-color: #1967D2;\n",
              "      --hover-bg-color: #E2EBFA;\n",
              "      --hover-fill-color: #174EA6;\n",
              "      --disabled-fill-color: #AAA;\n",
              "      --disabled-bg-color: #DDD;\n",
              "  }\n",
              "\n",
              "  [theme=dark] .colab-df-quickchart {\n",
              "      --bg-color: #3B4455;\n",
              "      --fill-color: #D2E3FC;\n",
              "      --hover-bg-color: #434B5C;\n",
              "      --hover-fill-color: #FFFFFF;\n",
              "      --disabled-bg-color: #3B4455;\n",
              "      --disabled-fill-color: #666;\n",
              "  }\n",
              "\n",
              "  .colab-df-quickchart {\n",
              "    background-color: var(--bg-color);\n",
              "    border: none;\n",
              "    border-radius: 50%;\n",
              "    cursor: pointer;\n",
              "    display: none;\n",
              "    fill: var(--fill-color);\n",
              "    height: 32px;\n",
              "    padding: 0;\n",
              "    width: 32px;\n",
              "  }\n",
              "\n",
              "  .colab-df-quickchart:hover {\n",
              "    background-color: var(--hover-bg-color);\n",
              "    box-shadow: 0 1px 2px rgba(60, 64, 67, 0.3), 0 1px 3px 1px rgba(60, 64, 67, 0.15);\n",
              "    fill: var(--button-hover-fill-color);\n",
              "  }\n",
              "\n",
              "  .colab-df-quickchart-complete:disabled,\n",
              "  .colab-df-quickchart-complete:disabled:hover {\n",
              "    background-color: var(--disabled-bg-color);\n",
              "    fill: var(--disabled-fill-color);\n",
              "    box-shadow: none;\n",
              "  }\n",
              "\n",
              "  .colab-df-spinner {\n",
              "    border: 2px solid var(--fill-color);\n",
              "    border-color: transparent;\n",
              "    border-bottom-color: var(--fill-color);\n",
              "    animation:\n",
              "      spin 1s steps(1) infinite;\n",
              "  }\n",
              "\n",
              "  @keyframes spin {\n",
              "    0% {\n",
              "      border-color: transparent;\n",
              "      border-bottom-color: var(--fill-color);\n",
              "      border-left-color: var(--fill-color);\n",
              "    }\n",
              "    20% {\n",
              "      border-color: transparent;\n",
              "      border-left-color: var(--fill-color);\n",
              "      border-top-color: var(--fill-color);\n",
              "    }\n",
              "    30% {\n",
              "      border-color: transparent;\n",
              "      border-left-color: var(--fill-color);\n",
              "      border-top-color: var(--fill-color);\n",
              "      border-right-color: var(--fill-color);\n",
              "    }\n",
              "    40% {\n",
              "      border-color: transparent;\n",
              "      border-right-color: var(--fill-color);\n",
              "      border-top-color: var(--fill-color);\n",
              "    }\n",
              "    60% {\n",
              "      border-color: transparent;\n",
              "      border-right-color: var(--fill-color);\n",
              "    }\n",
              "    80% {\n",
              "      border-color: transparent;\n",
              "      border-right-color: var(--fill-color);\n",
              "      border-bottom-color: var(--fill-color);\n",
              "    }\n",
              "    90% {\n",
              "      border-color: transparent;\n",
              "      border-bottom-color: var(--fill-color);\n",
              "    }\n",
              "  }\n",
              "</style>\n",
              "\n",
              "      <script>\n",
              "        async function quickchart(key) {\n",
              "          const quickchartButtonEl =\n",
              "            document.querySelector('#' + key + ' button');\n",
              "          quickchartButtonEl.disabled = true;  // To prevent multiple clicks.\n",
              "          quickchartButtonEl.classList.add('colab-df-spinner');\n",
              "          try {\n",
              "            const charts = await google.colab.kernel.invokeFunction(\n",
              "                'suggestCharts', [key], {});\n",
              "          } catch (error) {\n",
              "            console.error('Error during call to suggestCharts:', error);\n",
              "          }\n",
              "          quickchartButtonEl.classList.remove('colab-df-spinner');\n",
              "          quickchartButtonEl.classList.add('colab-df-quickchart-complete');\n",
              "        }\n",
              "        (() => {\n",
              "          let quickchartButtonEl =\n",
              "            document.querySelector('#df-114ce90c-b98f-4940-878c-72f66409837d button');\n",
              "          quickchartButtonEl.style.display =\n",
              "            google.colab.kernel.accessAllowed ? 'block' : 'none';\n",
              "        })();\n",
              "      </script>\n",
              "    </div>\n",
              "\n",
              "    </div>\n",
              "  </div>\n"
            ],
            "application/vnd.google.colaboratory.intrinsic+json": {
              "type": "dataframe",
              "variable_name": "df"
            }
          },
          "metadata": {},
          "execution_count": 3
        }
      ]
    },
    {
      "cell_type": "code",
      "source": [
        "df.info()\n"
      ],
      "metadata": {
        "colab": {
          "base_uri": "https://localhost:8080/"
        },
        "id": "u_mJ2NZ0jjET",
        "outputId": "eb9dcccb-86d7-4783-dce0-7a47c24a39b1"
      },
      "execution_count": 4,
      "outputs": [
        {
          "output_type": "stream",
          "name": "stdout",
          "text": [
            "<class 'pandas.core.frame.DataFrame'>\n",
            "RangeIndex: 226760 entries, 0 to 226759\n",
            "Data columns (total 1 columns):\n",
            " #   Column  Non-Null Count   Dtype \n",
            "---  ------  --------------   ----- \n",
            " 0   skill   226758 non-null  object\n",
            "dtypes: object(1)\n",
            "memory usage: 1.7+ MB\n"
          ]
        }
      ]
    },
    {
      "cell_type": "code",
      "source": [
        "# null values check\n",
        "print(\"\\n--- Checking for null values in each DataFrame ---\")\n",
        "for name, df in resume_data.items():\n",
        "    print(f\"\\nNull values in {name}:\")\n",
        "    print(df.isnull().sum())\n"
      ],
      "metadata": {
        "colab": {
          "base_uri": "https://localhost:8080/"
        },
        "id": "I6ar_rmXJ7Qw",
        "outputId": "e4c8a6a0-0f2a-44b9-9fd1-e0e03ca2dbd3"
      },
      "execution_count": 5,
      "outputs": [
        {
          "output_type": "stream",
          "name": "stdout",
          "text": [
            "\n",
            "--- Checking for null values in each DataFrame ---\n",
            "\n",
            "Null values in people_df:\n",
            "person_id        0\n",
            "name           114\n",
            "email        53340\n",
            "phone        53100\n",
            "linkedin     46395\n",
            "dtype: int64\n",
            "\n",
            "Null values in abilities_df:\n",
            "person_id    0\n",
            "ability      0\n",
            "dtype: int64\n",
            "\n",
            "Null values in education_df:\n",
            "person_id          0\n",
            "institution     1569\n",
            "program         7761\n",
            "start_date     21129\n",
            "location       23256\n",
            "dtype: int64\n",
            "\n",
            "Null values in experience_df:\n",
            "person_id         0\n",
            "title           111\n",
            "firm           4203\n",
            "start_date     2262\n",
            "end_date       2724\n",
            "location      53055\n",
            "dtype: int64\n",
            "\n",
            "Null values in person_skills_df:\n",
            "person_id    0\n",
            "skill        9\n",
            "dtype: int64\n",
            "\n",
            "Null values in skills_df:\n",
            "skill    2\n",
            "dtype: int64\n"
          ]
        }
      ]
    },
    {
      "cell_type": "code",
      "source": [
        "df.isnull().sum()"
      ],
      "metadata": {
        "colab": {
          "base_uri": "https://localhost:8080/",
          "height": 115
        },
        "id": "zfFjRSDBKKv0",
        "outputId": "0ca87745-776a-4e43-ef16-f69a6ed846ff"
      },
      "execution_count": 6,
      "outputs": [
        {
          "output_type": "execute_result",
          "data": {
            "text/plain": [
              "skill    2\n",
              "dtype: int64"
            ],
            "text/html": [
              "<div>\n",
              "<style scoped>\n",
              "    .dataframe tbody tr th:only-of-type {\n",
              "        vertical-align: middle;\n",
              "    }\n",
              "\n",
              "    .dataframe tbody tr th {\n",
              "        vertical-align: top;\n",
              "    }\n",
              "\n",
              "    .dataframe thead th {\n",
              "        text-align: right;\n",
              "    }\n",
              "</style>\n",
              "<table border=\"1\" class=\"dataframe\">\n",
              "  <thead>\n",
              "    <tr style=\"text-align: right;\">\n",
              "      <th></th>\n",
              "      <th>0</th>\n",
              "    </tr>\n",
              "  </thead>\n",
              "  <tbody>\n",
              "    <tr>\n",
              "      <th>skill</th>\n",
              "      <td>2</td>\n",
              "    </tr>\n",
              "  </tbody>\n",
              "</table>\n",
              "</div><br><label><b>dtype:</b> int64</label>"
            ]
          },
          "metadata": {},
          "execution_count": 6
        }
      ]
    },
    {
      "cell_type": "code",
      "source": [
        "\n",
        "def categorize_job(title):\n",
        "\n",
        "    if pd.isna(title) or title is None:\n",
        "        return 'unknown'\n",
        "\n",
        "    title = str(title).lower()\n",
        "\n",
        "\n",
        "    categories = {\n",
        "        'data science & analytics': ['data scientist', 'data analyst', 'bi', 'business intelligence', 'data engineer', 'etl'],\n",
        "        'software development & engineering': ['developer', 'engineer', 'software', 'programmer', 'web developer', 'frontend', 'backend', 'full stack'],\n",
        "        'devops & cloud': ['devops', 'cloud', 'aws', 'azure', 'gcp', 'sre', 'site reliability'],\n",
        "        'cybersecurity': ['security', 'cyber', 'infosec', 'pentest', 'ethical hacker'],\n",
        "        'database administration': ['database', 'dba', 'sql', 'oracle', 'mongodb', 'postgresql', 'mysql', 'redshift'],\n",
        "        'networking': ['network', 'ccna', 'ccnp', 'cisco', 'wan', 'lan'],\n",
        "        'system administration': ['system admin', 'sysadmin', 'windows server', 'linux admin'],\n",
        "        'it support': ['support', 'helpdesk', 'service desk', 'it specialist', 'desktop support'],\n",
        "        'project management': ['project manager', 'scrum master', 'agile coach', 'product owner']\n",
        "    }\n",
        "\n",
        "\n",
        "    for category, keywords in categories.items():\n",
        "        if any(keyword in title for keyword in keywords):\n",
        "            return category\n",
        "    return 'other'\n"
      ],
      "metadata": {
        "id": "oNFeyvZ3KWME"
      },
      "execution_count": 7,
      "outputs": []
    },
    {
      "cell_type": "code",
      "source": [
        "if 'people_df' in resume_data:\n",
        "    resume_data['people_df']['category'] = resume_data['people_df']['name'].apply(categorize_job)\n",
        "    print(\"\\n--- People DataFrame with Categories ---\")\n",
        "    print(resume_data['people_df'][['name', 'category']].head(10))"
      ],
      "metadata": {
        "colab": {
          "base_uri": "https://localhost:8080/"
        },
        "id": "xEWXJUKoLXpj",
        "outputId": "7533736c-1446-4edf-b984-b86f9d68f8f9"
      },
      "execution_count": 8,
      "outputs": [
        {
          "output_type": "stream",
          "name": "stdout",
          "text": [
            "\n",
            "--- People DataFrame with Categories ---\n",
            "                                                name  \\\n",
            "0                             Database Administrator   \n",
            "1                             Database Administrator   \n",
            "2                      Oracle Database Administrator   \n",
            "3  Amazon Redshift Administrator and ETL Develope...   \n",
            "4             Scrum Master Scrum Master Scrum Master   \n",
            "5                      Oracle Database Administrator   \n",
            "6                      Oracle Database Administrator   \n",
            "7              Lead Database Administrator/Developer   \n",
            "8                          Dominion Diagnostics, LLC   \n",
            "9                      Oracle Database Administrator   \n",
            "\n",
            "                             category  \n",
            "0             database administration  \n",
            "1             database administration  \n",
            "2             database administration  \n",
            "3            data science & analytics  \n",
            "4                  project management  \n",
            "5             database administration  \n",
            "6             database administration  \n",
            "7  software development & engineering  \n",
            "8                               other  \n",
            "9             database administration  \n"
          ]
        }
      ]
    },
    {
      "cell_type": "code",
      "source": [
        "if 'experience_df' in resume_data:\n",
        "    resume_data['experience_df']['category'] = resume_data['experience_df']['title'].apply(categorize_job)\n",
        "    print(\"\\n--- Experience DataFrame with Categories ---\")\n",
        "    print(resume_data['experience_df'][['title', 'category']].head(10))"
      ],
      "metadata": {
        "colab": {
          "base_uri": "https://localhost:8080/"
        },
        "id": "iV35yqwzLaSF",
        "outputId": "03fa3443-f672-4837-8491-8baf4d752de9"
      },
      "execution_count": 9,
      "outputs": [
        {
          "output_type": "stream",
          "name": "stdout",
          "text": [
            "\n",
            "--- Experience DataFrame with Categories ---\n",
            "                                               title                  category\n",
            "0                             Database Administrator   database administration\n",
            "1                             Database Administrator   database administration\n",
            "2                             Database Administrator   database administration\n",
            "3                      Oracle Database Administrator   database administration\n",
            "4                      Oracle Database Administrator   database administration\n",
            "5  Amazon Redshift Administrator and ETL Develope...  data science & analytics\n",
            "6                             Database Administrator   database administration\n",
            "7                             Database Administrator   database administration\n",
            "8                                       Scrum Master        project management\n",
            "9        Oracle Database Administrator/ Scrum Master   database administration\n"
          ]
        }
      ]
    },
    {
      "cell_type": "code",
      "source": [
        "if 'people_df' in resume_data:\n",
        "    print(\"\\n--- Category Distribution in People DataFrame ---\")\n",
        "    print(resume_data['people_df']['category'].value_counts())"
      ],
      "metadata": {
        "colab": {
          "base_uri": "https://localhost:8080/"
        },
        "id": "hGd1PFoMMDbk",
        "outputId": "365ec95b-eedc-4890-a137-1eea4590b3b2"
      },
      "execution_count": 10,
      "outputs": [
        {
          "output_type": "stream",
          "name": "stdout",
          "text": [
            "\n",
            "--- Category Distribution in People DataFrame ---\n",
            "category\n",
            "other                                 20379\n",
            "software development & engineering    16731\n",
            "cybersecurity                          4197\n",
            "database administration                4161\n",
            "networking                             3414\n",
            "project management                     3267\n",
            "it support                             1179\n",
            "data science & analytics                978\n",
            "system administration                   330\n",
            "devops & cloud                          183\n",
            "unknown                                 114\n",
            "Name: count, dtype: int64\n"
          ]
        }
      ]
    },
    {
      "cell_type": "code",
      "source": [
        "if 'experience_df' in resume_data:\n",
        "    print(\"\\n--- Category Distribution in Experience DataFrame ---\")\n",
        "    print(resume_data['experience_df']['category'].value_counts())"
      ],
      "metadata": {
        "colab": {
          "base_uri": "https://localhost:8080/"
        },
        "id": "iAVvkjDnMKZk",
        "outputId": "e3b5f8b4-13f9-4972-fa78-83a269834a7a"
      },
      "execution_count": 11,
      "outputs": [
        {
          "output_type": "stream",
          "name": "stdout",
          "text": [
            "\n",
            "--- Category Distribution in Experience DataFrame ---\n",
            "category\n",
            "software development & engineering    92697\n",
            "other                                 84003\n",
            "database administration               18657\n",
            "project management                    18393\n",
            "cybersecurity                         16920\n",
            "networking                            16293\n",
            "it support                            11694\n",
            "data science & analytics               4101\n",
            "system administration                  2142\n",
            "devops & cloud                          393\n",
            "unknown                                 111\n",
            "Name: count, dtype: int64\n"
          ]
        }
      ]
    },
    {
      "cell_type": "code",
      "source": [
        "\n",
        "print(\"\\n--- Basic Information about each DataFrame ---\")\n",
        "for name, df in resume_data.items():\n",
        "    print(f\"\\n{name} Info:\")\n",
        "    print(f\"Shape: {df.shape}\")\n",
        "    print(f\"Columns: {list(df.columns)}\")\n",
        "    print(f\"Data types:\\n{df.dtypes}\")"
      ],
      "metadata": {
        "colab": {
          "base_uri": "https://localhost:8080/"
        },
        "id": "zRjJFIvjMMVB",
        "outputId": "07f6eccc-12ee-452d-fb8e-f4c2b41d11b0"
      },
      "execution_count": 12,
      "outputs": [
        {
          "output_type": "stream",
          "name": "stdout",
          "text": [
            "\n",
            "--- Basic Information about each DataFrame ---\n",
            "\n",
            "people_df Info:\n",
            "Shape: (54933, 6)\n",
            "Columns: ['person_id', 'name', 'email', 'phone', 'linkedin', 'category']\n",
            "Data types:\n",
            "person_id     int64\n",
            "name         object\n",
            "email        object\n",
            "phone        object\n",
            "linkedin     object\n",
            "category     object\n",
            "dtype: object\n",
            "\n",
            "abilities_df Info:\n",
            "Shape: (1219473, 2)\n",
            "Columns: ['person_id', 'ability']\n",
            "Data types:\n",
            "person_id     int64\n",
            "ability      object\n",
            "dtype: object\n",
            "\n",
            "education_df Info:\n",
            "Shape: (75999, 5)\n",
            "Columns: ['person_id', 'institution', 'program', 'start_date', 'location']\n",
            "Data types:\n",
            "person_id       int64\n",
            "institution    object\n",
            "program        object\n",
            "start_date     object\n",
            "location       object\n",
            "dtype: object\n",
            "\n",
            "experience_df Info:\n",
            "Shape: (265404, 7)\n",
            "Columns: ['person_id', 'title', 'firm', 'start_date', 'end_date', 'location', 'category']\n",
            "Data types:\n",
            "person_id      int64\n",
            "title         object\n",
            "firm          object\n",
            "start_date    object\n",
            "end_date      object\n",
            "location      object\n",
            "category      object\n",
            "dtype: object\n",
            "\n",
            "person_skills_df Info:\n",
            "Shape: (2483376, 2)\n",
            "Columns: ['person_id', 'skill']\n",
            "Data types:\n",
            "person_id     int64\n",
            "skill        object\n",
            "dtype: object\n",
            "\n",
            "skills_df Info:\n",
            "Shape: (226760, 1)\n",
            "Columns: ['skill']\n",
            "Data types:\n",
            "skill    object\n",
            "dtype: object\n"
          ]
        }
      ]
    },
    {
      "cell_type": "code",
      "source": [
        "import matplotlib.pyplot as plt\n",
        "import seaborn as sns\n",
        "\n",
        "sns.set(style=\"whitegrid\")\n",
        "if 'people_df' in resume_data:\n",
        "    people_counts = resume_data['people_df']['category'].value_counts()\n",
        "    plt.figure(figsize=(10, 6))\n",
        "    sns.barplot(x=people_counts.values, y=people_counts.index, palette='viridis')\n",
        "    plt.title('Job Category Distribution (People Data)')\n",
        "    plt.xlabel('Count')\n",
        "    plt.ylabel('Category')\n",
        "    plt.tight_layout()\n",
        "    plt.show()"
      ],
      "metadata": {
        "colab": {
          "base_uri": "https://localhost:8080/",
          "height": 708
        },
        "id": "qZoOPLEWOun-",
        "outputId": "fcfa5808-6e0c-44c6-90aa-b1031fbff95e"
      },
      "execution_count": 13,
      "outputs": [
        {
          "output_type": "stream",
          "name": "stderr",
          "text": [
            "<ipython-input-13-b5b214cb2eb3>:8: FutureWarning: \n",
            "\n",
            "Passing `palette` without assigning `hue` is deprecated and will be removed in v0.14.0. Assign the `y` variable to `hue` and set `legend=False` for the same effect.\n",
            "\n",
            "  sns.barplot(x=people_counts.values, y=people_counts.index, palette='viridis')\n"
          ]
        },
        {
          "output_type": "display_data",
          "data": {
            "text/plain": [
              "<Figure size 1000x600 with 1 Axes>"
            ],
            "image/png": "[encoded data removed]"
          },
          "metadata": {}
        }
      ]
    }
  ],
  "metadata": {
    "colab": {
      "provenance": [],
      "include_colab_link": true
    },
    "kernelspec": {
      "display_name": "Python 3",
      "name": "python3"
    }
  },
  "nbformat": 4,
  "nbformat_minor": 0
}